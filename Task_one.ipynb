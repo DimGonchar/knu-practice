{
 "cells": [
  {
   "cell_type": "code",
   "execution_count": 1,
   "metadata": {},
   "outputs": [],
   "source": [
    "import bn256"
   ]
  },
  {
   "cell_type": "code",
   "execution_count": 2,
   "metadata": {},
   "outputs": [],
   "source": [
    "import random\n"
   ]
  },
  {
   "cell_type": "code",
   "execution_count": 3,
   "metadata": {},
   "outputs": [],
   "source": [
    "r1 = random.randrange (2, bn256.order)"
   ]
  },
  {
   "cell_type": "code",
   "execution_count": 4,
   "metadata": {},
   "outputs": [
    {
     "data": {
      "text/plain": [
       "17487339585355586293941396178824506042149637447672369718213736390328490506710"
      ]
     },
     "execution_count": 4,
     "metadata": {},
     "output_type": "execute_result"
    }
   ],
   "source": [
    "r1"
   ]
  },
  {
   "cell_type": "code",
   "execution_count": 5,
   "metadata": {},
   "outputs": [],
   "source": [
    "r2 = random.randrange (2, bn256.order)\n"
   ]
  },
  {
   "cell_type": "code",
   "execution_count": 6,
   "metadata": {},
   "outputs": [
    {
     "data": {
      "text/plain": [
       "62552346973959883496391202511401894199679411604779958591573634890499189848542"
      ]
     },
     "execution_count": 6,
     "metadata": {},
     "output_type": "execute_result"
    }
   ],
   "source": [
    "r2"
   ]
  },
  {
   "cell_type": "code",
   "execution_count": 7,
   "metadata": {},
   "outputs": [],
   "source": [
    "r3 = random.randrange (2, bn256.order)\n"
   ]
  },
  {
   "cell_type": "code",
   "execution_count": 8,
   "metadata": {},
   "outputs": [
    {
     "data": {
      "text/plain": [
       "55312184954157590653471685369163585075379984785750765119224437225418689218271"
      ]
     },
     "execution_count": 8,
     "metadata": {},
     "output_type": "execute_result"
    }
   ],
   "source": [
    "r3"
   ]
  },
  {
   "cell_type": "code",
   "execution_count": 9,
   "metadata": {},
   "outputs": [],
   "source": [
    "G1 = bn256.curve_G"
   ]
  },
  {
   "cell_type": "code",
   "execution_count": 10,
   "metadata": {},
   "outputs": [
    {
     "data": {
      "text/plain": [
       "(1, 65000549695646603732796438742359905742825358107623003571877145026864184071781)"
      ]
     },
     "execution_count": 10,
     "metadata": {},
     "output_type": "execute_result"
    }
   ],
   "source": [
    "G1"
   ]
  },
  {
   "cell_type": "code",
   "execution_count": 11,
   "metadata": {},
   "outputs": [],
   "source": [
    "G2 = bn256.twist_G"
   ]
  },
  {
   "cell_type": "code",
   "execution_count": 12,
   "metadata": {},
   "outputs": [
    {
     "data": {
      "text/plain": [
       "((21167961636542580255011770066570541300993051739349375019639421053990175267184,64746500191241794695844075326670126197795977525365406531717464316923369116492), (20666913350058776956210519119118544732556678129809273996262322366050359951122,17778617556404439934652658462602675281523610326338642107814333856843981424549))"
      ]
     },
     "execution_count": 12,
     "metadata": {},
     "output_type": "execute_result"
    }
   ],
   "source": [
    "G2"
   ]
  },
  {
   "cell_type": "code",
   "execution_count": 13,
   "metadata": {},
   "outputs": [],
   "source": [
    "T1 = G1.scalar_mul(r1)"
   ]
  },
  {
   "cell_type": "code",
   "execution_count": 14,
   "metadata": {},
   "outputs": [
    {
     "data": {
      "text/plain": [
       "(53187454593126225855462959282425202548294880129019996753987207892371271536350, 3354248396276357089298727445498033151392341075482031385123638763659769672504)"
      ]
     },
     "execution_count": 14,
     "metadata": {},
     "output_type": "execute_result"
    }
   ],
   "source": [
    "T1"
   ]
  },
  {
   "cell_type": "code",
   "execution_count": 15,
   "metadata": {},
   "outputs": [],
   "source": [
    "T2 = G1.scalar_mul(r2)"
   ]
  },
  {
   "cell_type": "code",
   "execution_count": 16,
   "metadata": {},
   "outputs": [
    {
     "data": {
      "text/plain": [
       "(51352097854179021654916244188175679893009970563615313217681579036498457046038, 57131606179309625457987112312299728106731030645821427868568187915526569314213)"
      ]
     },
     "execution_count": 16,
     "metadata": {},
     "output_type": "execute_result"
    }
   ],
   "source": [
    "T2"
   ]
  },
  {
   "cell_type": "code",
   "execution_count": 17,
   "metadata": {},
   "outputs": [],
   "source": [
    "T3 = G1.scalar_mul(r3)"
   ]
  },
  {
   "cell_type": "code",
   "execution_count": 18,
   "metadata": {},
   "outputs": [
    {
     "data": {
      "text/plain": [
       "(38374405732142969410426687101776184026815061426939771141198423488791372374353, 35095447088720123485132489945653618532065454950415000183930071646614238868498)"
      ]
     },
     "execution_count": 18,
     "metadata": {},
     "output_type": "execute_result"
    }
   ],
   "source": [
    "T3"
   ]
  },
  {
   "cell_type": "code",
   "execution_count": 19,
   "metadata": {},
   "outputs": [
    {
     "data": {
      "text/plain": [
       "bn256.curve_point"
      ]
     },
     "execution_count": 19,
     "metadata": {},
     "output_type": "execute_result"
    }
   ],
   "source": [
    "type(T3)"
   ]
  },
  {
   "cell_type": "code",
   "execution_count": 20,
   "metadata": {},
   "outputs": [],
   "source": [
    "object_one = bn256.gfp_1(T3.x.value())\n",
    "object_two = bn256.gfp_1(-1*T3.y.value())"
   ]
  },
  {
   "cell_type": "code",
   "execution_count": 21,
   "metadata": {},
   "outputs": [
    {
     "name": "stdout",
     "output_type": "stream",
     "text": [
      "38374405732142969410426687101776184026815061426939771141198423488791372374353 <class 'bn256.gfp_1'>\n",
      "29905102606926480247663948796706287210759903157208003387947073380249945203285 <class 'bn256.gfp_1'>\n"
     ]
    }
   ],
   "source": [
    "print(object_one, type(object_one))\n",
    "print(object_two, type(object_two))"
   ]
  },
  {
   "cell_type": "code",
   "execution_count": 22,
   "metadata": {},
   "outputs": [],
   "source": [
    "minus_T3 = bn256.curve_point(T3.x, object_two)"
   ]
  },
  {
   "cell_type": "code",
   "execution_count": 23,
   "metadata": {},
   "outputs": [
    {
     "data": {
      "text/plain": [
       "(38374405732142969410426687101776184026815061426939771141198423488791372374353, 29905102606926480247663948796706287210759903157208003387947073380249945203285)"
      ]
     },
     "execution_count": 23,
     "metadata": {},
     "output_type": "execute_result"
    }
   ],
   "source": [
    "minus_T3"
   ]
  },
  {
   "cell_type": "code",
   "execution_count": 24,
   "metadata": {},
   "outputs": [],
   "source": [
    "TP = (T1.add(T2)).add(minus_T3)"
   ]
  },
  {
   "cell_type": "code",
   "execution_count": 25,
   "metadata": {},
   "outputs": [
    {
     "data": {
      "text/plain": [
       "(26171821033709648082095558257329064174061434709725927820829800148537362954453, 39843586254496884053058799024668144617977978358597036062843701428129003583711)"
      ]
     },
     "execution_count": 25,
     "metadata": {},
     "output_type": "execute_result"
    }
   ],
   "source": [
    "TP"
   ]
  },
  {
   "cell_type": "code",
   "execution_count": 26,
   "metadata": {},
   "outputs": [],
   "source": [
    "T4 = G2.scalar_mul(r1)"
   ]
  },
  {
   "cell_type": "code",
   "execution_count": 27,
   "metadata": {},
   "outputs": [
    {
     "data": {
      "text/plain": [
       "((43718971387269898315728524038698967925345537788955640602935927815294779406805,11729279630660052144041445706292721430375731498791762559001832380053023344851), (3575401199086849491947467102092646851524356305406212807651047551378460898656,50987749191465091304869919113192748814490443503603022419519740607247379569872))"
      ]
     },
     "execution_count": 27,
     "metadata": {},
     "output_type": "execute_result"
    }
   ],
   "source": [
    "T4"
   ]
  },
  {
   "cell_type": "code",
   "execution_count": 28,
   "metadata": {},
   "outputs": [],
   "source": [
    "T5 = G2.scalar_mul(r2)\n"
   ]
  },
  {
   "cell_type": "code",
   "execution_count": 29,
   "metadata": {},
   "outputs": [
    {
     "data": {
      "text/plain": [
       "((3963679927431651609201254266506818153501529780424885431435036241204588589424,25540568823470161415235587828964647869110276112995431188538042416620659981265), (20961586363878377253804167062839060289024313603266956485376687808152020320261,15080187818290022969773320725308126390277895890545056934929120554493423860376))"
      ]
     },
     "execution_count": 29,
     "metadata": {},
     "output_type": "execute_result"
    }
   ],
   "source": [
    "T5"
   ]
  },
  {
   "cell_type": "code",
   "execution_count": 30,
   "metadata": {},
   "outputs": [],
   "source": [
    "T6 = G2.scalar_mul(r3)"
   ]
  },
  {
   "cell_type": "code",
   "execution_count": 31,
   "metadata": {},
   "outputs": [
    {
     "data": {
      "text/plain": [
       "((64836973577355743099869573169222823490716237879532509122903091201167457389939,38420190432801002530085916612797859815647759504214110932884471420259826533157), (44021222865807489078159062616822043724026537953353286229869718560374290810366,64445520666560300536583053260309477683812035110644167666438699359577785454613))"
      ]
     },
     "execution_count": 31,
     "metadata": {},
     "output_type": "execute_result"
    }
   ],
   "source": [
    "T6"
   ]
  },
  {
   "cell_type": "code",
   "execution_count": 32,
   "metadata": {},
   "outputs": [],
   "source": [
    "#TQ = T4 + T5 - T6\n",
    "TQ = T4.add(T5).add(T6.scalar_mul(bn256.order - 1))"
   ]
  },
  {
   "cell_type": "code",
   "execution_count": 33,
   "metadata": {},
   "outputs": [
    {
     "data": {
      "text/plain": [
       "((15669951200095526302453774921464625325458603526758913165039809463879058289557,2477806408098621909651893657241767972171178698461150113393030503129872699661), (30814503190260578378643229071081636697786346967932160641236460497414982952403,33220616392836116991185873092401000156837667967499489066725362353416347968000))"
      ]
     },
     "execution_count": 33,
     "metadata": {},
     "output_type": "execute_result"
    }
   ],
   "source": [
    "TQ"
   ]
  },
  {
   "cell_type": "code",
   "execution_count": 34,
   "metadata": {},
   "outputs": [],
   "source": [
    "tf = r1 + r2 - r3"
   ]
  },
  {
   "cell_type": "code",
   "execution_count": 35,
   "metadata": {},
   "outputs": [
    {
     "data": {
      "text/plain": [
       "24727501605157879136860913321062815166449064266701563190562934055408991136981"
      ]
     },
     "execution_count": 35,
     "metadata": {},
     "output_type": "execute_result"
    }
   ],
   "source": [
    "tf"
   ]
  },
  {
   "cell_type": "code",
   "execution_count": 36,
   "metadata": {},
   "outputs": [],
   "source": [
    "E1 =  bn256.optimal_ate(G2, G1).exp(tf**2) "
   ]
  },
  {
   "cell_type": "code",
   "execution_count": 37,
   "metadata": {},
   "outputs": [
    {
     "data": {
      "text/plain": [
       "(((46598966345398044463831164168441785250202159452518108944658037759745826960067,8075183848019131092751221689546359471946028712588961422885223553032366528039),(39502641632050060243230311587789202551095666792351309410610453812099198892153,24209241739748344446113146242074310000675214130251968986851264470187800294222),(48085420591953525168819935857698356203776200289643746771878084024624291167445,33343005858511921587519680922369101912315148507678496306716112598024020839027)),((61593459270943513108380390342638163287832057872160332431900678030946554155554,11489018409838424968550272078247810398022803880005381622627452486873524021466),(42709039124754162855361059495195761994636365611085266135651101292522218026124,14905032596518094201783305764710479976883083303323299730744114823888529181180),(25505438624804643241097521366792936164333163827023063573024957031306940404310,46549944738265612490307479529437429601314941470406634044759878777641499753866)))"
      ]
     },
     "execution_count": 37,
     "metadata": {},
     "output_type": "execute_result"
    }
   ],
   "source": [
    "E1"
   ]
  },
  {
   "cell_type": "code",
   "execution_count": 38,
   "metadata": {},
   "outputs": [],
   "source": [
    "E2 = bn256.optimal_ate(TQ, TP)"
   ]
  },
  {
   "cell_type": "code",
   "execution_count": 39,
   "metadata": {},
   "outputs": [
    {
     "data": {
      "text/plain": [
       "(((46598966345398044463831164168441785250202159452518108944658037759745826960067,8075183848019131092751221689546359471946028712588961422885223553032366528039),(39502641632050060243230311587789202551095666792351309410610453812099198892153,24209241739748344446113146242074310000675214130251968986851264470187800294222),(48085420591953525168819935857698356203776200289643746771878084024624291167445,33343005858511921587519680922369101912315148507678496306716112598024020839027)),((61593459270943513108380390342638163287832057872160332431900678030946554155554,11489018409838424968550272078247810398022803880005381622627452486873524021466),(42709039124754162855361059495195761994636365611085266135651101292522218026124,14905032596518094201783305764710479976883083303323299730744114823888529181180),(25505438624804643241097521366792936164333163827023063573024957031306940404310,46549944738265612490307479529437429601314941470406634044759878777641499753866)))"
      ]
     },
     "execution_count": 39,
     "metadata": {},
     "output_type": "execute_result"
    }
   ],
   "source": [
    "E2"
   ]
  },
  {
   "cell_type": "code",
   "execution_count": 42,
   "metadata": {},
   "outputs": [
    {
     "data": {
      "text/plain": [
       "True"
      ]
     },
     "execution_count": 42,
     "metadata": {},
     "output_type": "execute_result"
    }
   ],
   "source": [
    "E1 == E2"
   ]
  }
 ],
 "metadata": {
  "kernelspec": {
   "display_name": "Python 3",
   "language": "python",
   "name": "python3"
  },
  "language_info": {
   "codemirror_mode": {
    "name": "ipython",
    "version": 3
   },
   "file_extension": ".py",
   "mimetype": "text/x-python",
   "name": "python",
   "nbconvert_exporter": "python",
   "pygments_lexer": "ipython3",
   "version": "3.7.4"
  }
 },
 "nbformat": 4,
 "nbformat_minor": 2
}
